{
 "cells": [
  {
   "cell_type": "code",
   "execution_count": 8,
   "id": "internal-hometown",
   "metadata": {},
   "outputs": [
    {
     "name": "stdout",
     "output_type": "stream",
     "text": [
      "Python implementation: CPython\n",
      "Python version       : 3.7.10\n",
      "IPython version      : 7.21.0\n",
      "\n",
      "numpy       : 1.20.1\n",
      "pandas      : 1.2.3\n",
      "torch       : 1.8.1\n",
      "transformers: 4.4.2\n",
      "yaml        : 5.4.1\n",
      "\n"
     ]
    }
   ],
   "source": [
    "%reload_ext watermark\n",
    "%watermark -v -p numpy,pandas,torch,transformers,yaml"
   ]
  },
  {
   "cell_type": "code",
   "execution_count": 10,
   "id": "activated-carroll",
   "metadata": {},
   "outputs": [],
   "source": [
    "import pandas as pd\n",
    "import numpy as np\n",
    "import seaborn as sns\n",
    "import matplotlib.pyplot as plt\n",
    "import yaml \n",
    "from pylab import rcParams\n",
    "\n",
    "sns.set(style='whitegrid', palette='muted', font_scale=1.2)\n",
    "HAPPY_COLORS_PALETTE = [\"#01BEFE\", \"#FFDD00\", \"#FF7D00\", \"#FF006D\", \"#ADFF02\", \"#8F00FF\"]\n",
    "sns.set_palette(sns.color_palette(HAPPY_COLORS_PALETTE))\n",
    "rcParams['figure.figsize'] = 12, 8\n"
   ]
  },
  {
   "cell_type": "code",
   "execution_count": 11,
   "id": "alternative-proposal",
   "metadata": {},
   "outputs": [
    {
     "name": "stdout",
     "output_type": "stream",
     "text": [
      "{'global': {'ramdom_seed': 42, 'pre_trained_model_name': 'bert-base-uncased'}, 'dataset': {'apps_dataset_path': 'data/raw/apps.csv', 'reviews_dataset_path': 'data/raw/reviews.csv', 'imdb_dataset_path': 'data/raw/imbd-train.csv'}, 'split': {'train_split_path': 'data/processed/train_split.csv', 'val_split_path': 'data/processed/val_split.csv', 'test_split_path': 'data/processed/test_split.csv'}, 'models': {'imdb_bert': {'dropout': 0.3, 'linear_units': 768}}, 'train': {'train_batch_size': 8, 'valid_batch_size': 4, 'max_len_tokenks': 512, 'epochs': 1, 'accumulation': 2, 'model_path': 'models/imdb_classification/'}}\n"
     ]
    }
   ],
   "source": [
    "with open(\"../params.yaml\") as params_file:\n",
    "    params = yaml.load(params_file, Loader=yaml.FullLoader)\n",
    "    print(params)\n",
    "    "
   ]
  },
  {
   "cell_type": "code",
   "execution_count": 14,
   "id": "polar-mineral",
   "metadata": {},
   "outputs": [
    {
     "data": {
      "text/plain": [
       "'data/processed/train_split.csv'"
      ]
     },
     "execution_count": 14,
     "metadata": {},
     "output_type": "execute_result"
    }
   ],
   "source": [
    "params[\"split\"][\"train_split_path\"]"
   ]
  },
  {
   "cell_type": "code",
   "execution_count": 15,
   "id": "featured-russell",
   "metadata": {},
   "outputs": [
    {
     "data": {
      "text/html": [
       "<div>\n",
       "<style scoped>\n",
       "    .dataframe tbody tr th:only-of-type {\n",
       "        vertical-align: middle;\n",
       "    }\n",
       "\n",
       "    .dataframe tbody tr th {\n",
       "        vertical-align: top;\n",
       "    }\n",
       "\n",
       "    .dataframe thead th {\n",
       "        text-align: right;\n",
       "    }\n",
       "</style>\n",
       "<table border=\"1\" class=\"dataframe\">\n",
       "  <thead>\n",
       "    <tr style=\"text-align: right;\">\n",
       "      <th></th>\n",
       "      <th>content</th>\n",
       "      <th>sentiment</th>\n",
       "    </tr>\n",
       "  </thead>\n",
       "  <tbody>\n",
       "    <tr>\n",
       "      <th>0</th>\n",
       "      <td>The reminder for recuurring tasks is not working.</td>\n",
       "      <td>0</td>\n",
       "    </tr>\n",
       "    <tr>\n",
       "      <th>1</th>\n",
       "      <td>Keeps me focused and accountable to accomplish...</td>\n",
       "      <td>2</td>\n",
       "    </tr>\n",
       "    <tr>\n",
       "      <th>2</th>\n",
       "      <td>Good app would enjoy a option to pause.</td>\n",
       "      <td>2</td>\n",
       "    </tr>\n",
       "  </tbody>\n",
       "</table>\n",
       "</div>"
      ],
      "text/plain": [
       "                                             content  sentiment\n",
       "0  The reminder for recuurring tasks is not working.          0\n",
       "1  Keeps me focused and accountable to accomplish...          2\n",
       "2            Good app would enjoy a option to pause.          2"
      ]
     },
     "execution_count": 15,
     "metadata": {},
     "output_type": "execute_result"
    }
   ],
   "source": [
    "df_train = pd.read_csv(f'../{params[\"split\"][\"train_split_path\"]}')\n",
    "df_train.head(3)"
   ]
  },
  {
   "cell_type": "code",
   "execution_count": 16,
   "id": "formal-bride",
   "metadata": {},
   "outputs": [
    {
     "data": {
      "text/plain": [
       "(21561, 2)"
      ]
     },
     "execution_count": 16,
     "metadata": {},
     "output_type": "execute_result"
    }
   ],
   "source": [
    "df_train.shape"
   ]
  },
  {
   "cell_type": "code",
   "execution_count": 18,
   "id": "basic-hardwood",
   "metadata": {},
   "outputs": [
    {
     "name": "stdout",
     "output_type": "stream",
     "text": [
      "<class 'pandas.core.frame.DataFrame'>\n",
      "RangeIndex: 21561 entries, 0 to 21560\n",
      "Data columns (total 2 columns):\n",
      " #   Column     Non-Null Count  Dtype \n",
      "---  ------     --------------  ----- \n",
      " 0   content    21560 non-null  object\n",
      " 1   sentiment  21561 non-null  int64 \n",
      "dtypes: int64(1), object(1)\n",
      "memory usage: 337.0+ KB\n"
     ]
    }
   ],
   "source": [
    "df_train.info()"
   ]
  },
  {
   "cell_type": "code",
   "execution_count": 20,
   "id": "neural-guess",
   "metadata": {},
   "outputs": [],
   "source": [
    "df2 = df_train.dropna(axis = 0, how ='any')"
   ]
  },
  {
   "cell_type": "code",
   "execution_count": 21,
   "id": "dramatic-foundation",
   "metadata": {},
   "outputs": [
    {
     "name": "stdout",
     "output_type": "stream",
     "text": [
      "<class 'pandas.core.frame.DataFrame'>\n",
      "Int64Index: 21560 entries, 0 to 21560\n",
      "Data columns (total 2 columns):\n",
      " #   Column     Non-Null Count  Dtype \n",
      "---  ------     --------------  ----- \n",
      " 0   content    21560 non-null  object\n",
      " 1   sentiment  21560 non-null  int64 \n",
      "dtypes: int64(1), object(1)\n",
      "memory usage: 505.3+ KB\n"
     ]
    }
   ],
   "source": [
    "df2.info()"
   ]
  },
  {
   "cell_type": "code",
   "execution_count": null,
   "id": "economic-priority",
   "metadata": {},
   "outputs": [],
   "source": []
  }
 ],
 "metadata": {
  "environment": {
   "name": "tf2-gpu.2-4.m65",
   "type": "gcloud",
   "uri": "gcr.io/deeplearning-platform-release/tf2-gpu.2-4:m65"
  },
  "kernelspec": {
   "display_name": "hf-sentiment",
   "language": "python",
   "name": "hf-sentiment"
  },
  "language_info": {
   "codemirror_mode": {
    "name": "ipython",
    "version": 3
   },
   "file_extension": ".py",
   "mimetype": "text/x-python",
   "name": "python",
   "nbconvert_exporter": "python",
   "pygments_lexer": "ipython3",
   "version": "3.7.10"
  }
 },
 "nbformat": 4,
 "nbformat_minor": 5
}
